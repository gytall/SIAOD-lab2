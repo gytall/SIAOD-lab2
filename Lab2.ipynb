{
 "cells": [
  {
   "cell_type": "markdown",
   "id": "f86c70ac",
   "metadata": {},
   "source": [
    "# Лабораторная работа №2\n"
   ]
  },
  {
   "cell_type": "markdown",
   "id": "fifteen-sailing",
   "metadata": {
    "id": "fifteen-sailing"
   },
   "source": [
    "### Выполнил студент группы БПИ2303 Григорян Илья Мурадович \n",
    "- - - "
   ]
  },
  {
   "cell_type": "markdown",
   "id": "arctic-stocks",
   "metadata": {
    "id": "arctic-stocks"
   },
   "source": [
    "Реализовать следующие структуры данных:\n",
    "  \n",
    "● <b> Стек (stack): </b>  \n",
    "Операции для стека:\n",
    "<i> инициализация, проверка на пустоту, добавление нового элемента в начало, извлечение элемента из начала;  </i>  \n",
    "  \n",
    "● <b> Дек (двусторонняя очередь, deque):  </b>  \n",
    "Операции для дека:\n",
    "<i> инициализация, проверка на пустоту, добавление нового элемента в начало, добавление нового элемента в конец, извлечение элемента из начала, извлечение элемента из конца. </i>  \n",
    "  \n",
    "<i> Разработать программу обработки данных, содержащихся в заранее подготовленном txt-файле, в соответствии с заданиями, применив указанную в задании структуру данных. Результат работы программы вывести на экран и сохранить в отдельном txt-файле. </i>"
   ]
  },
  {
   "cell_type": "markdown",
   "id": "5d7edb08",
   "metadata": {
    "id": "5d7edb08",
    "scrolled": true
   },
   "source": [
    "### Задание №1\n",
    "Отсортировать строки файла, содержащие названия книг, в алфавитном порядке с использованием двух деков."
   ]
  },
  {
   "cell_type": "code",
   "execution_count": null,
   "id": "17702ade",
   "metadata": {
    "id": "17702ade"
   },
   "outputs": [
    {
     "name": "stdout",
     "output_type": "stream",
     "text": [
      "Отсортированные книги:\n",
      "1984\n",
      "Анна Каренина\n",
      "Война и мир\n",
      "Гордость и предубеждение\n",
      "Мастер и Маргарита\n",
      "Преступление и наказание\n"
     ]
    }
   ],
   "source": [
    "from collections import deque\n",
    "\n",
    "def sort_books(filename, output_filename):\n",
    "    deque1 = deque()\n",
    "    deque2 = deque()\n",
    "    \n",
    "    try:\n",
    "        with open(filename, 'r', encoding='utf-8') as file:  \n",
    "            for line in file:\n",
    "                deque1.append(line.strip())\n",
    "    except FileNotFoundError:\n",
    "        print(f\"Ошибка: Файл '{filename}' не найден.\")\n",
    "        return\n",
    "    except IOError:\n",
    "        print(f\"Ошибка: Проблема с чтением файла '{filename}'.\")\n",
    "        return\n",
    "    \n",
    "    while deque1:\n",
    "        min_value = min(deque1)\n",
    "        deque2.append(min_value)\n",
    "        deque1.remove(min_value)\n",
    "    \n",
    "    try:\n",
    "        with open(f'files/{output_filename}', 'w', encoding='utf-8') as file:  \n",
    "            for book in deque2:\n",
    "                file.write(book + '\\n')\n",
    "    except IOError:\n",
    "        print(f\"Ошибка: Проблема с записью в файл 'files/{output_filename}'.\")\n",
    "        return\n",
    "    \n",
    "    print(\"Отсортированные книги:\")\n",
    "    for book in deque2:\n",
    "        print(book)\n",
    "\n",
    "sort_books('books.txt', 'sorted_books.txt')\n"
   ]
  },
  {
   "cell_type": "markdown",
   "id": "49fbd2a0",
   "metadata": {
    "id": "49fbd2a0"
   },
   "source": [
    "### Задание №2\n",
    "Дек содержит последовательность символов для шифровки сообщений. Дан текстовый файл, содержащий зашифрованное сообщение. Пользуясь деком, расшифровать текст.\n",
    "Известно, что при шифровке каждый символ сообщения заменялся следующим за ним в деке по часовой стрелке через один."
   ]
  },
  {
   "cell_type": "code",
   "execution_count": null,
   "id": "81cab7a8",
   "metadata": {
    "id": "81cab7a8"
   },
   "outputs": [
    {
     "name": "stdout",
     "output_type": "stream",
     "text": [
      "Расшифрованное сообщение:\n",
      "BCD!EFGHIJ!KLMNO!\n"
     ]
    }
   ],
   "source": [
    "from collections import deque\n",
    "import string\n",
    "\n",
    "def decrypt_message(encoded_filename, decoded_filename):\n",
    "    decrypted_text = []\n",
    "\n",
    "    try:\n",
    "        with open(encoded_filename, 'r', encoding='utf-8') as file:\n",
    "            encrypted_text = file.read().strip()\n",
    "    except FileNotFoundError:\n",
    "        print(f\"Ошибка: Файл '{encoded_filename}' не найден.\")\n",
    "        return\n",
    "    except IOError:\n",
    "        print(f\"Ошибка: Проблема с чтением файла '{encoded_filename}'.\")\n",
    "        return\n",
    "    \n",
    "    utf8_chars = deque(chr(i) for i in range(32, 127))  # Диапазон ASCII (32-126)\n",
    "    \n",
    "    for char in encrypted_text:\n",
    "        if char in utf8_chars:\n",
    "            utf8_chars.rotate(-1)  # Смещаем по часовой\n",
    "            decrypted_text.append(utf8_chars[0])  # Берем текущий символ\n",
    "        else:\n",
    "            decrypted_text.append(char)  # Если символа нет, оставляем как есть\n",
    "    \n",
    "    try:\n",
    "        with open(f'files/{decoded_filename}', 'w', encoding='utf-8') as file:  # Выходной файл в 'files/'\n",
    "            file.write(\"\".join(decrypted_text))\n",
    "    except IOError:\n",
    "        print(f\"Ошибка: Проблема с записью в файл 'files/{decoded_filename}'.\")\n",
    "        return\n",
    "    \n",
    "    print(\"Расшифрованное сообщение:\")\n",
    "    print(\"\".join(decrypted_text))\n",
    "\n",
    "decrypt_message('encrypted.txt', 'decrypted.txt')\n"
   ]
  },
  {
   "cell_type": "markdown",
   "id": "c0894f47",
   "metadata": {
    "id": "c0894f47"
   },
   "source": [
    "### Задание №3\n",
    "Даны три стержня и n дисков различного размера. Диски можно надевать на стержни, образуя из них башни. Перенести n дисков со стержня А на стержень С, сохранив их первоначальный порядок. При переносе дисков необходимо соблюдать следующие правила:\n",
    "- на каждом шаге со стержня на стержень переносить только один диск;\n",
    "- диск нельзя помещать на диск меньшего размера;\n",
    "- для промежуточного хранения можно использовать стержень В.\n",
    "Реализовать алгоритм, используя три стека вместо стержней А, В, С. Информация о дисках хранится в исходном файле."
   ]
  },
  {
   "cell_type": "code",
   "execution_count": null,
   "id": "9e91a9d4",
   "metadata": {
    "id": "9e91a9d4"
   },
   "outputs": [
    {
     "name": "stdout",
     "output_type": "stream",
     "text": [
      "Перемещен диск 1 с C на A\n",
      "Перемещен диск 2 с C на B\n",
      "Перемещен диск 2 с B на A\n",
      "Перемещен диск 3 с C на A\n",
      "Перемещен диск 4 с C на B\n",
      "Перемещен диск 4 с B на A\n"
     ]
    }
   ],
   "source": [
    "def move_disk(source, target, source_name, target_name, output_lines):\n",
    "    if source:  \n",
    "        disk = source.pop()\n",
    "        target.append(disk)\n",
    "        move_text = f\"Перемещен диск {disk} с {source_name} на {target_name}\"\n",
    "        print(move_text)\n",
    "        output_lines.append(move_text)\n",
    "\n",
    "def hanoi_iterative(n):\n",
    "    A = list(range(n, 0, -1))  # Столбец A\n",
    "    B = []  # столбец B\n",
    "    C = []  # столбец C\n",
    "\n",
    "    output_lines = []\n",
    "\n",
    "    if n % 2 == 0:\n",
    "        source_name, target_name = \"C\", \"A\"\n",
    "    else:\n",
    "        source_name, target_name = \"A\", \"C\"\n",
    "\n",
    "    total_moves = 2 ** n - 1 \n",
    "\n",
    "    # Итеративный алгоритм перемещения дисков\n",
    "    for move in range(1, total_moves + 1):\n",
    "        if move % 3 == 1:\n",
    "            move_disk(A, C, source_name, target_name, output_lines)\n",
    "        elif move % 3 == 2:\n",
    "            move_disk(A, B, source_name, \"B\", output_lines)\n",
    "        elif move % 3 == 0:\n",
    "            move_disk(B, C, \"B\", target_name, output_lines)\n",
    "\n",
    "    return output_lines\n",
    "\n",
    "with open(\"hanoi_disks.txt\", \"r\") as file:\n",
    "    n = int(file.readline().strip())\n",
    "\n",
    "output_lines = hanoi_iterative(n)\n",
    "\n",
    "# Сохраняем выходной файл в папку 'files'\n",
    "with open(\"files/output.txt\", \"w\") as file:\n",
    "    file.write(\"\\n\".join(output_lines))\n"
   ]
  },
  {
   "cell_type": "markdown",
   "id": "e5b0be17",
   "metadata": {
    "id": "e5b0be17"
   },
   "source": [
    "### Задание №4\n",
    "Дан текстовый файл с программой на алгоритмическом языке. За один просмотр файла проверить баланс круглых скобок в тексте, используя стек."
   ]
  },
  {
   "cell_type": "code",
   "execution_count": 32,
   "id": "5b1df60a",
   "metadata": {
    "id": "5b1df60a"
   },
   "outputs": [
    {
     "name": "stdout",
     "output_type": "stream",
     "text": [
      "Скобки сбалансированы\n"
     ]
    }
   ],
   "source": [
    "def check_brackets(filename):\n",
    "    stack = []\n",
    "    with open(filename, 'r', encoding='utf-8') as file:\n",
    "        for line in file:\n",
    "            for char in line:\n",
    "                if char == '(':\n",
    "                    stack.append(char)\n",
    "                elif char == ')':\n",
    "                    if not stack:\n",
    "                        print(\"Несбалансированные скобки\")\n",
    "                        return\n",
    "                    stack.pop()\n",
    "    print(\"Скобки сбалансированы\" if not stack else \"Несбалансированные скобки\")\n",
    "\n",
    "check_brackets('program_brackets.txt')  \n",
    "\n"
   ]
  },
  {
   "cell_type": "markdown",
   "id": "c44cdd6b",
   "metadata": {
    "id": "c44cdd6b"
   },
   "source": [
    "### Задание №5\n",
    "Дан текстовый файл с программой на алгоритмическом языке. За один просмотр файла проверить баланс квадратных скобок в тексте, используя дек."
   ]
  },
  {
   "cell_type": "code",
   "execution_count": 33,
   "id": "36b8f400",
   "metadata": {
    "id": "36b8f400"
   },
   "outputs": [
    {
     "name": "stdout",
     "output_type": "stream",
     "text": [
      "Скобки сбалансированы\n"
     ]
    }
   ],
   "source": [
    "from collections import deque\n",
    "\n",
    "def check_square_brackets(filename):\n",
    "    deque_brackets = deque()\n",
    "    with open(filename, 'r', encoding='utf-8') as file:\n",
    "        for line in file:\n",
    "            for char in line:\n",
    "                if char == '[':\n",
    "                    deque_brackets.append(char)\n",
    "                elif char == ']':\n",
    "                    if not deque_brackets:\n",
    "                        print(\"Несбалансированные скобки\")\n",
    "                        return\n",
    "                    deque_brackets.pop()\n",
    "    print(\"Скобки сбалансированы\" if not deque_brackets else \"Несбалансированные скобки\")\n",
    "\n",
    "check_square_brackets('program_square_brackets.txt')  \n"
   ]
  },
  {
   "cell_type": "markdown",
   "id": "59d13dc7",
   "metadata": {
    "id": "59d13dc7"
   },
   "source": [
    "### Задание №6\n",
    "Дан файл из символов. Используя стек, за один просмотр файла напечатать сначала все цифры, затем все буквы, и, наконец, все остальные символы, сохраняя исходный порядок в каждой группе символов."
   ]
  },
  {
   "cell_type": "code",
   "execution_count": null,
   "id": "297e36c2",
   "metadata": {
    "id": "297e36c2"
   },
   "outputs": [
    {
     "name": "stdout",
     "output_type": "stream",
     "text": [
      "Результат группировки:\n",
      "19427qhdqnq!@@#!\n",
      "\n"
     ]
    }
   ],
   "source": [
    "def group_characters(filename):\n",
    "    digits, letters, others = [], [], []\n",
    "    with open(filename, 'r', encoding='utf-8') as file:\n",
    "        for char in file.read():\n",
    "            if char.isdigit():\n",
    "                digits.append(char)\n",
    "            elif char.isalpha():\n",
    "                letters.append(char)\n",
    "            else:\n",
    "                others.append(char)\n",
    "    \n",
    "    result = ''.join(digits + letters + others)\n",
    "    with open('files/grouped_characters.txt', 'w', encoding='utf-8') as file:\n",
    "        file.write(result)\n",
    "    print(\"Результат группировки:\")\n",
    "    print(result)\n",
    "group_characters('characters.txt')  \n"
   ]
  },
  {
   "cell_type": "markdown",
   "id": "973f68bd",
   "metadata": {
    "id": "973f68bd"
   },
   "source": [
    "### Задание №7\n",
    "Дан файл из целых чисел. Используя дек, за один просмотр файла напечатать сначала все отрицательные числа, затем все положительные числа, сохраняя исходный порядок в каждой группе."
   ]
  },
  {
   "cell_type": "code",
   "execution_count": null,
   "id": "c56fad66",
   "metadata": {
    "id": "c56fad66"
   },
   "outputs": [
    {
     "name": "stdout",
     "output_type": "stream",
     "text": [
      "Результат группировки чисел:\n",
      "[-3, -1, 2, 4]\n"
     ]
    }
   ],
   "source": [
    "from collections import deque\n",
    "\n",
    "def group_numbers(filename):\n",
    "    deque_numbers = deque()\n",
    "    with open(filename, 'r', encoding='utf-8') as file:\n",
    "        for number in map(int, file.readlines()):\n",
    "            if number < 0:\n",
    "                deque_numbers.appendleft(number)\n",
    "            else:\n",
    "                deque_numbers.append(number)\n",
    "    \n",
    "    with open('files/grouped_numbers.txt', 'w', encoding='utf-8') as file:\n",
    "        file.writelines(f\"{num}\\n\" for num in deque_numbers)\n",
    "    print(\"Результат группировки чисел:\")\n",
    "    print(list(deque_numbers))\n",
    "\n",
    "group_numbers('numbers.txt') "
   ]
  },
  {
   "cell_type": "markdown",
   "id": "b9228191",
   "metadata": {
    "id": "b9228191"
   },
   "source": [
    "### Задание №8\n",
    "Дан текстовый файл. Используя стек, сформировать новый текстовый файл, содержащий строки исходного файла, записанные в обратном порядке: первая строка становится последней, вторая – предпоследней и т.д."
   ]
  },
  {
   "cell_type": "code",
   "execution_count": null,
   "id": "981fbdfe",
   "metadata": {
    "id": "981fbdfe"
   },
   "outputs": [
    {
     "name": "stdout",
     "output_type": "stream",
     "text": [
      "Результат переворота строк:\n",
      "Третья строка\n",
      "Вторая строка\n",
      "Первая строка\n",
      "\n"
     ]
    }
   ],
   "source": [
    "def reverse_lines(filename):\n",
    "    stack = []\n",
    "    with open(filename, 'r', encoding='utf-8') as file:\n",
    "        stack.extend(file.readlines())\n",
    "    \n",
    "    with open('files/reversed_lines.txt', 'w', encoding='utf-8') as file:\n",
    "        file.writelines(reversed(stack))\n",
    "    print(\"Результат переворота строк:\")\n",
    "    print(''.join(reversed(stack)))\n",
    "\n",
    "reverse_lines('lines.txt')  \n"
   ]
  }
 ],
 "metadata": {
  "colab": {
   "provenance": [
    {
     "file_id": "1SJnopeql2j1MhzcaJ8o68KaPzPnynIeK",
     "timestamp": 1676536264821
    }
   ]
  },
  "kernelspec": {
   "display_name": "Python 3 (ipykernel)",
   "language": "python",
   "name": "python3"
  },
  "language_info": {
   "codemirror_mode": {
    "name": "ipython",
    "version": 3
   },
   "file_extension": ".py",
   "mimetype": "text/x-python",
   "name": "python",
   "nbconvert_exporter": "python",
   "pygments_lexer": "ipython3",
   "version": "3.13.2"
  }
 },
 "nbformat": 4,
 "nbformat_minor": 5
}
